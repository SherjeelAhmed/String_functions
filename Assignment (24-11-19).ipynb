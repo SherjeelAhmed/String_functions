{
 "cells": [
  {
   "cell_type": "markdown",
   "metadata": {},
   "source": [
    "# AI:(BATCH-3)-TIMING:9-12AM"
   ]
  },
  {
   "cell_type": "markdown",
   "metadata": {},
   "source": [
    "# String Functions"
   ]
  },
  {
   "cell_type": "code",
   "execution_count": 1,
   "metadata": {},
   "outputs": [
    {
     "data": {
      "text/plain": [
       "['__add__',\n",
       " '__class__',\n",
       " '__contains__',\n",
       " '__delattr__',\n",
       " '__dir__',\n",
       " '__doc__',\n",
       " '__eq__',\n",
       " '__format__',\n",
       " '__ge__',\n",
       " '__getattribute__',\n",
       " '__getitem__',\n",
       " '__getnewargs__',\n",
       " '__gt__',\n",
       " '__hash__',\n",
       " '__init__',\n",
       " '__init_subclass__',\n",
       " '__iter__',\n",
       " '__le__',\n",
       " '__len__',\n",
       " '__lt__',\n",
       " '__mod__',\n",
       " '__mul__',\n",
       " '__ne__',\n",
       " '__new__',\n",
       " '__reduce__',\n",
       " '__reduce_ex__',\n",
       " '__repr__',\n",
       " '__rmod__',\n",
       " '__rmul__',\n",
       " '__setattr__',\n",
       " '__sizeof__',\n",
       " '__str__',\n",
       " '__subclasshook__',\n",
       " 'capitalize',\n",
       " 'casefold',\n",
       " 'center',\n",
       " 'count',\n",
       " 'encode',\n",
       " 'endswith',\n",
       " 'expandtabs',\n",
       " 'find',\n",
       " 'format',\n",
       " 'format_map',\n",
       " 'index',\n",
       " 'isalnum',\n",
       " 'isalpha',\n",
       " 'isascii',\n",
       " 'isdecimal',\n",
       " 'isdigit',\n",
       " 'isidentifier',\n",
       " 'islower',\n",
       " 'isnumeric',\n",
       " 'isprintable',\n",
       " 'isspace',\n",
       " 'istitle',\n",
       " 'isupper',\n",
       " 'join',\n",
       " 'ljust',\n",
       " 'lower',\n",
       " 'lstrip',\n",
       " 'maketrans',\n",
       " 'partition',\n",
       " 'replace',\n",
       " 'rfind',\n",
       " 'rindex',\n",
       " 'rjust',\n",
       " 'rpartition',\n",
       " 'rsplit',\n",
       " 'rstrip',\n",
       " 'split',\n",
       " 'splitlines',\n",
       " 'startswith',\n",
       " 'strip',\n",
       " 'swapcase',\n",
       " 'title',\n",
       " 'translate',\n",
       " 'upper',\n",
       " 'zfill']"
      ]
     },
     "execution_count": 1,
     "metadata": {},
     "output_type": "execute_result"
    }
   ],
   "source": [
    "name = \"Sherjeel Ahmed\"\n",
    "dir (name)"
   ]
  },
  {
   "cell_type": "code",
   "execution_count": 12,
   "metadata": {},
   "outputs": [
    {
     "name": "stdout",
     "output_type": "stream",
     "text": [
      "Sherjeel ahmed\n"
     ]
    }
   ],
   "source": [
    "name = \"Sherjeel Ahmed\"       \n",
    "\n",
    "#converts the first character of a string to capital (uppercase) letter, if already capital returns the same string\n",
    "\n",
    "print(name.capitalize())   "
   ]
  },
  {
   "cell_type": "code",
   "execution_count": 8,
   "metadata": {},
   "outputs": [
    {
     "name": "stdout",
     "output_type": "stream",
     "text": [
      "sherjeel ahmed\n"
     ]
    }
   ],
   "source": [
    "name = \"Sherjeel Ahmed\"      # lower all character of a string\n",
    "print(name.casefold())"
   ]
  },
  {
   "cell_type": "code",
   "execution_count": 139,
   "metadata": {},
   "outputs": [
    {
     "name": "stdout",
     "output_type": "stream",
     "text": [
      " original name: \n",
      " Sherjeel Ahmed \n",
      "\n",
      " center aligned: \n",
      "                   Sherjeel Ahmed                   \n",
      "\n",
      " center aligned with fillchar: \n",
      " @@@@@@@@@@@@@@@@@@Sherjeel Ahmed@@@@@@@@@@@@@@@@@@ \n",
      "\n"
     ]
    }
   ],
   "source": [
    "name =\"Sherjeel Ahmed\"     # gives a space of characters defined\n",
    "print(\" original name: \\n\",name,\"\\n\")\n",
    "print(\" center aligned: \\n\",name.center(50),\"\\n\")\n",
    "print(\" center aligned with fillchar: \\n\",name.center(50,\"@\"),\"\\n\")"
   ]
  },
  {
   "cell_type": "code",
   "execution_count": 141,
   "metadata": {},
   "outputs": [
    {
     "name": "stdout",
     "output_type": "stream",
     "text": [
      "Sherjeel Ahmed------------------------------------\n"
     ]
    }
   ],
   "source": [
    "name = \"Sherjeel Ahmed\"     # gives a space to characters defined and aligns it to the left\n",
    "print(name.ljust(50,\"-\"))name = \"Sherjeel Ahmed\"\n",
    "print(name.ljust(50,\"-\"))"
   ]
  },
  {
   "cell_type": "code",
   "execution_count": 142,
   "metadata": {},
   "outputs": [
    {
     "name": "stdout",
     "output_type": "stream",
     "text": [
      "------------------------------------Sherjeel Ahmed\n"
     ]
    }
   ],
   "source": [
    "name = \"Sherjeel Ahmed\"   # gives a space to characters defined and aligns it to the right\n",
    "print(name.rjust(50,\"-\"))"
   ]
  },
  {
   "cell_type": "code",
   "execution_count": 26,
   "metadata": {},
   "outputs": [
    {
     "name": "stdout",
     "output_type": "stream",
     "text": [
      "4\n"
     ]
    }
   ],
   "source": [
    "name = \"Sherjeel Ahmed\"     # returns the number of occurrences of a sub-strings in the given string \n",
    "print(name.count(\"e\"))"
   ]
  },
  {
   "cell_type": "code",
   "execution_count": 37,
   "metadata": {},
   "outputs": [
    {
     "name": "stdout",
     "output_type": "stream",
     "text": [
      "b'Sherjeel Ahm\\xc3\\xa9d'\n"
     ]
    }
   ],
   "source": [
    "name = \"Sherjeel Ahméd\"    # encodes the string using specified encoding, if no encoding is specified UTF-8 is used\n",
    "print(name.encode())"
   ]
  },
  {
   "cell_type": "code",
   "execution_count": 42,
   "metadata": {},
   "outputs": [
    {
     "name": "stdout",
     "output_type": "stream",
     "text": [
      "True\n",
      "False\n"
     ]
    }
   ],
   "source": [
    "name = \"Sherjeel Ahmed\"    # returns true if a string ends with the specified suffix otherwise returns false\n",
    "print(name.endswith(\"d\"))\n",
    "print(name.endswith(\"e\"))"
   ]
  },
  {
   "cell_type": "code",
   "execution_count": 50,
   "metadata": {},
   "outputs": [
    {
     "name": "stdout",
     "output_type": "stream",
     "text": [
      "   Sher  jeel Ahmed\n"
     ]
    }
   ],
   "source": [
    "name = \"\\tSher\\tjeel Ahmed\"  # returns a copy where all tab characters  are expanded using space (by default space-8)\n",
    "print(name.expandtabs(3))"
   ]
  },
  {
   "cell_type": "code",
   "execution_count": 59,
   "metadata": {},
   "outputs": [
    {
     "name": "stdout",
     "output_type": "stream",
     "text": [
      "4\n",
      "-1\n"
     ]
    }
   ],
   "source": [
    "name = \"Sherjeel Ahmed\"   # returns the index of a character else returns -1\n",
    "print(name.find(\"j\"))\n",
    "print(name.find(\"w\"))"
   ]
  },
  {
   "cell_type": "code",
   "execution_count": 68,
   "metadata": {},
   "outputs": [
    {
     "name": "stdout",
     "output_type": "stream",
     "text": [
      "My name is Sherjeel Ahmed\n"
     ]
    }
   ],
   "source": [
    "name = \"{} Sherjeel Ahmed\"  \n",
    "\n",
    "#used for string formatting,allows multiple substituions & value formatting, concatenating elements through positional arguments\n",
    "\n",
    "print(name.format(\"My name is\"))  \n"
   ]
  },
  {
   "cell_type": "code",
   "execution_count": 66,
   "metadata": {},
   "outputs": [
    {
     "name": "stdout",
     "output_type": "stream",
     "text": [
      "My name is Sherjeel Ahmed\n"
     ]
    }
   ],
   "source": [
    "name = {\"x\":\"Sherjeel\" , \"y\":\"Ahmed\"}  # used to return dictionary key's value\n",
    "print(\"My name is {x} {y}\".format_map(name))"
   ]
  },
  {
   "cell_type": "code",
   "execution_count": 71,
   "metadata": {},
   "outputs": [
    {
     "name": "stdout",
     "output_type": "stream",
     "text": [
      "11\n"
     ]
    }
   ],
   "source": [
    "name = \"Sherjeel Ahmed\"  # searches for the given element from the start of the list & returns the lowest index\n",
    "print(name.index(\"m\"))"
   ]
  },
  {
   "cell_type": "code",
   "execution_count": 89,
   "metadata": {},
   "outputs": [
    {
     "name": "stdout",
     "output_type": "stream",
     "text": [
      "True\n",
      "False\n",
      "True\n"
     ]
    }
   ],
   "source": [
    "name = \"Sherjeel23Ahmed\"  # checks all the characters in the given string is alphanumeric or not\n",
    "print(name.isalnum())\n",
    "name = \"Sherjeel 23Ahmed\"\n",
    "print(name.isalnum())\n",
    "num = \"12345\"\n",
    "print(num.isalnum())"
   ]
  },
  {
   "cell_type": "code",
   "execution_count": 82,
   "metadata": {},
   "outputs": [
    {
     "name": "stdout",
     "output_type": "stream",
     "text": [
      "True\n",
      "False\n"
     ]
    }
   ],
   "source": [
    "name = \"SHERJEELAHMED\"   # returns true if all the characters are alphabets otherwise returns false\n",
    "print(name.isalpha())\n",
    "num = \"12345\"\n",
    "print(num.isalpha())"
   ]
  },
  {
   "cell_type": "code",
   "execution_count": 92,
   "metadata": {},
   "outputs": [
    {
     "name": "stdout",
     "output_type": "stream",
     "text": [
      "True\n",
      "True\n"
     ]
    }
   ],
   "source": [
    "name = \"Sherjeel Ahmed\"  \n",
    "print(name.isascii())\n",
    "num = \"12345\"\n",
    "print(num.isascii())"
   ]
  },
  {
   "cell_type": "code",
   "execution_count": 105,
   "metadata": {},
   "outputs": [
    {
     "name": "stdout",
     "output_type": "stream",
     "text": [
      "True\n",
      "False\n"
     ]
    }
   ],
   "source": [
    "num = \"12345\"             # returns true if all the characters are decimals otherwise returns false\n",
    "print(num.isdecimal())\n",
    "num = \"123 45\"\n",
    "print(num.isdecimal())"
   ]
  },
  {
   "cell_type": "code",
   "execution_count": 103,
   "metadata": {},
   "outputs": [
    {
     "name": "stdout",
     "output_type": "stream",
     "text": [
      "False\n",
      "True\n"
     ]
    }
   ],
   "source": [
    "name = \"Sherjeel Ahmed\"    # returns true if all the characters are digits otherwise returns false\n",
    "print(name.isdigit())\n",
    "num =\"12345\"\n",
    "print(num.isdigit())"
   ]
  },
  {
   "cell_type": "code",
   "execution_count": 109,
   "metadata": {},
   "outputs": [
    {
     "name": "stdout",
     "output_type": "stream",
     "text": [
      "False\n",
      "False\n",
      "True\n",
      "True\n",
      "False\n"
     ]
    }
   ],
   "source": [
    "name = \"Sherjeel Ahmed\"      # checks whether the string is a valid identifier or not\n",
    "print(name.isidentifier())\n",
    "num =\"12345\"\n",
    "print(num.isidentifier())\n",
    "name = \"SherjeelAhmed\"\n",
    "print(name.isidentifier())\n",
    "name = \"Sherjeel23Ahmed\"\n",
    "print(name.isidentifier())\n",
    "name = \"23SherjeelAhmed\"\n",
    "print(name.isidentifier())"
   ]
  },
  {
   "cell_type": "code",
   "execution_count": 111,
   "metadata": {},
   "outputs": [
    {
     "name": "stdout",
     "output_type": "stream",
     "text": [
      "False\n",
      "True\n"
     ]
    }
   ],
   "source": [
    "name = \"Sherjeel Ahmed\"    # returns true if the string is lowercase otherwise returns false\n",
    "print(name.islower())\n",
    "name = \"sherjeel ahmed\"\n",
    "print(name.islower())"
   ]
  },
  {
   "cell_type": "code",
   "execution_count": 120,
   "metadata": {},
   "outputs": [
    {
     "name": "stdout",
     "output_type": "stream",
     "text": [
      "False\n",
      "True\n"
     ]
    }
   ],
   "source": [
    "name = \"Sherjeel Ahmed\"     # returns true if the string is uppercase otherwise returns false\n",
    "print(name.isupper())\n",
    "name = \"SHERJEEL AHMED\"\n",
    "print(name.isupper())"
   ]
  },
  {
   "cell_type": "code",
   "execution_count": 121,
   "metadata": {},
   "outputs": [
    {
     "name": "stdout",
     "output_type": "stream",
     "text": [
      "sherjeel ahmed\n"
     ]
    }
   ],
   "source": [
    "name = \"Sherjeel Ahmed\"    # return a copy of the string converted to lowercase\n",
    "print(name.lower())"
   ]
  },
  {
   "cell_type": "code",
   "execution_count": 122,
   "metadata": {},
   "outputs": [
    {
     "name": "stdout",
     "output_type": "stream",
     "text": [
      "SHERJEEL AHMED\n"
     ]
    }
   ],
   "source": [
    "name = \"Sherjeel Ahmed\"   # return a copy of the string converted to uppercase\n",
    "print(name.upper())"
   ]
  },
  {
   "cell_type": "code",
   "execution_count": 125,
   "metadata": {},
   "outputs": [
    {
     "name": "stdout",
     "output_type": "stream",
     "text": [
      "True\n"
     ]
    }
   ],
   "source": [
    "name = \"123\"               # returns true if all characters are numeric otherwise returns false \n",
    "print(name.isnumeric())"
   ]
  },
  {
   "cell_type": "code",
   "execution_count": 131,
   "metadata": {},
   "outputs": [
    {
     "name": "stdout",
     "output_type": "stream",
     "text": [
      "True\n",
      "False\n"
     ]
    }
   ],
   "source": [
    "name = \"Sherjeel Ahmed\"     # returns true if all characters are printable or string is empty otherwise returns false\n",
    "print(name.isprintable())   \n",
    "name = \"Sherjeel \\n Ahmed\"   # '\\n' not printable\n",
    "print(name.isprintable())"
   ]
  },
  {
   "cell_type": "code",
   "execution_count": 148,
   "metadata": {},
   "outputs": [
    {
     "name": "stdout",
     "output_type": "stream",
     "text": [
      "False\n",
      "True\n"
     ]
    }
   ],
   "source": [
    "name = \"Sherjeel Ahmed\"   # returns true if it contains whitespace characters otherwise returns false\n",
    "print(name.isspace())     # e.g '\\n','\\t','\\f','\\r','\\v' (true)\n",
    "ch = \" \"\n",
    "print(ch.isspace())"
   ]
  },
  {
   "cell_type": "code",
   "execution_count": 149,
   "metadata": {},
   "outputs": [
    {
     "name": "stdout",
     "output_type": "stream",
     "text": [
      "True\n"
     ]
    }
   ],
   "source": [
    "name = \"Sherjeel Ahmed\"   # returns true if titlecased otherwise returns false\n",
    "print(name.istitle())"
   ]
  },
  {
   "cell_type": "code",
   "execution_count": 157,
   "metadata": {},
   "outputs": [
    {
     "name": "stdout",
     "output_type": "stream",
     "text": [
      "Sherjeel-Ahmed\n"
     ]
    }
   ],
   "source": [
    "name = {\"Sherjeel\",\"Ahmed\"}   # returns a string in which elements of sequence have been joined by str operator.\n",
    "print(\"-\".join(name))         # concatenated with the elements of iterable"
   ]
  },
  {
   "cell_type": "code",
   "execution_count": 160,
   "metadata": {},
   "outputs": [
    {
     "name": "stdout",
     "output_type": "stream",
     "text": [
      "Sherjeel Ahmed\n"
     ]
    }
   ],
   "source": [
    "name = \"--Sherjeel Ahmed--\"   # deleting all the leading and trailing characters mentioned in arguments\n",
    "print(name.strip(\"-\"))"
   ]
  },
  {
   "cell_type": "code",
   "execution_count": 161,
   "metadata": {},
   "outputs": [
    {
     "name": "stdout",
     "output_type": "stream",
     "text": [
      "Sherjeel Ahmed--\n"
     ]
    }
   ],
   "source": [
    "name = \"--Sherjeel Ahmed--\"  # deleting all the leading characters\n",
    "print(name.lstrip(\"-\"))"
   ]
  },
  {
   "cell_type": "code",
   "execution_count": 162,
   "metadata": {},
   "outputs": [
    {
     "name": "stdout",
     "output_type": "stream",
     "text": [
      "--Sherjeel Ahmed\n"
     ]
    }
   ],
   "source": [
    "name = \"--Sherjeel Ahmed--\"   # deleting all the trailing characters\n",
    "print(name.rstrip(\"-\"))"
   ]
  },
  {
   "cell_type": "code",
   "execution_count": 186,
   "metadata": {},
   "outputs": [
    {
     "name": "stdout",
     "output_type": "stream",
     "text": [
      "Original text:  Wherjeel-Yhmed\n",
      "Translated text:  SherjeelAhmed\n"
     ]
    }
   ],
   "source": [
    "fc = \"WY\"                                        # specify to translate chars\n",
    "sc =\"SA\"                                         # specify to replace with \n",
    "rc = \"-\"                                         # delete chars\n",
    "tar = \"Wherjeel-Yhmed\"                           # target string \n",
    "table = tar.maketrans(fc,sc,rc)                  # using maketrans() to construct translate table \n",
    "print(\"Original text: \",tar)                     # original string\n",
    "print(\"Translated text: \",tar.translate(table))  # using translate() to make translations\n"
   ]
  },
  {
   "cell_type": "code",
   "execution_count": 195,
   "metadata": {},
   "outputs": [
    {
     "name": "stdout",
     "output_type": "stream",
     "text": [
      "('Sherjeel ', 'Ahmed', '')\n"
     ]
    }
   ],
   "source": [
    "name= \"Sherjeel Ahmed\"  # partition the string into 3 parts using the given separator & return in tuple form\n",
    "print(name.partition(\"Ahmed\"))"
   ]
  },
  {
   "cell_type": "code",
   "execution_count": 199,
   "metadata": {},
   "outputs": [
    {
     "name": "stdout",
     "output_type": "stream",
     "text": [
      "('', 'Sherjeel', ' Ahmed')\n"
     ]
    }
   ],
   "source": [
    "name = \"Sherjeel Ahmed\"  # starts looking for the separator from the right\n",
    "print(name.rpartition(\"Sherjeel\"))"
   ]
  },
  {
   "cell_type": "code",
   "execution_count": 203,
   "metadata": {},
   "outputs": [
    {
     "name": "stdout",
     "output_type": "stream",
     "text": [
      "Original Text:  Sher Sher Ahmed\n",
      "Replaced Text: Sherjeel Sher Ahmed\n"
     ]
    }
   ],
   "source": [
    "name = \"Sher Sher Ahmed\"                      \n",
    "rep = name.replace(\"Sher\",\"Sherjeel\",1)     # Replace 'Sher' by 'Sherjeel' one time instead of two\n",
    "print(\"Original Text: \",name)               # original string\n",
    "\n",
    "# returns a copy of the string where all occurrences of a substring is replaced with another substring\n",
    "\n",
    "print(\"Replaced Text:\", rep) "
   ]
  },
  {
   "cell_type": "code",
   "execution_count": 219,
   "metadata": {},
   "outputs": [
    {
     "name": "stdout",
     "output_type": "stream",
     "text": [
      "Found value at index:  12\n",
      "Error:  -1\n"
     ]
    }
   ],
   "source": [
    "name = \"Sherjeel Ahmed\"          # returns the highest index of the substring & if not found returns -1\n",
    "print(\"Found value at index: \",name.rfind(\"e\"))\n",
    "name = \"Sherjeel Ahmed\"\n",
    "print(\"Error: \",name.rfind(\"d\",0,5))"
   ]
  },
  {
   "cell_type": "code",
   "execution_count": 223,
   "metadata": {},
   "outputs": [
    {
     "name": "stdout",
     "output_type": "stream",
     "text": [
      "Found value at index:  12\n"
     ]
    }
   ],
   "source": [
    "name = \"Sherjeel Ahmed\"         #  returns the highest index of the substring & if not found returns error not -1\n",
    "print(\"Found value at index: \",name.rindex(\"e\"))"
   ]
  },
  {
   "cell_type": "code",
   "execution_count": 225,
   "metadata": {},
   "outputs": [
    {
     "name": "stdout",
     "output_type": "stream",
     "text": [
      "['Sherjeel', 'Ahmed']\n"
     ]
    }
   ],
   "source": [
    "name = \"Sherjeel-Ahmed\"    # returns a lists of strings after breaking the given string by the specified separator \n",
    "print(name.split(\"-\"))"
   ]
  },
  {
   "cell_type": "code",
   "execution_count": 231,
   "metadata": {},
   "outputs": [
    {
     "name": "stdout",
     "output_type": "stream",
     "text": [
      "['Sherjeel-Ahm', 'ed']\n"
     ]
    }
   ],
   "source": [
    "name = \"Sherjeel-Ahm-ed\"   # splits a string into a list, starting from the right if max not defined acts as split()\n",
    "print(name.rsplit(\"-\",maxsplit=1)) # setting the maxsplit parameter to 1, will return a list with 2 elements"
   ]
  },
  {
   "cell_type": "code",
   "execution_count": 232,
   "metadata": {},
   "outputs": [
    {
     "name": "stdout",
     "output_type": "stream",
     "text": [
      "Sherjeel Ahmed\n"
     ]
    }
   ],
   "source": [
    "name = \"Sherjeel Ahmed\"  # Converts first character in each word to uppercase\n",
    "print(name.title())"
   ]
  },
  {
   "cell_type": "code",
   "execution_count": 237,
   "metadata": {},
   "outputs": [
    {
     "name": "stdout",
     "output_type": "stream",
     "text": [
      "['Sherjeel', 'Ahmed']\n"
     ]
    }
   ],
   "source": [
    "name = \"Sherjeel\\nAhmed\"   # returns a list of lines in the string including the line break\n",
    "print(name.splitlines())"
   ]
  },
  {
   "cell_type": "code",
   "execution_count": 249,
   "metadata": {},
   "outputs": [
    {
     "name": "stdout",
     "output_type": "stream",
     "text": [
      "False\n",
      "True\n"
     ]
    }
   ],
   "source": [
    "name = \"Sherjeel Ahmed\"    # returns true if the sentence starts with the search string otherwise false \n",
    "print(name.startswith(\"A\"))\n",
    "name = \"Sherjeel Ahmed\"  \n",
    "print(name.startswith(\"A\",9,12))"
   ]
  },
  {
   "cell_type": "code",
   "execution_count": 247,
   "metadata": {},
   "outputs": [
    {
     "name": "stdout",
     "output_type": "stream",
     "text": [
      "True\n",
      "False\n"
     ]
    }
   ],
   "source": [
    "name = \"Sherjeel Ahmed\"   # returns true if the sentence ends with the search string otherwise false\n",
    "print(name.endswith(\"d\"))\n",
    "name = \"Sherjeel Ahmed\"  \n",
    "print(name.endswith(\"e\"))"
   ]
  },
  {
   "cell_type": "code",
   "execution_count": 250,
   "metadata": {},
   "outputs": [
    {
     "name": "stdout",
     "output_type": "stream",
     "text": [
      "sHERJEEL aHMED\n"
     ]
    }
   ],
   "source": [
    "name = \"Sherjeel Ahmed\"   # changes the cases of all characters of the string \n",
    "print(name.swapcase())"
   ]
  },
  {
   "cell_type": "code",
   "execution_count": 253,
   "metadata": {},
   "outputs": [
    {
     "name": "stdout",
     "output_type": "stream",
     "text": [
      "0000Sherjeel Ahmed\n"
     ]
    }
   ],
   "source": [
    "name = \"Sherjeel Ahmed\"  # returns a copy of a string with '0' characters padded to the left side of the given string \n",
    "print(name.zfill(18))"
   ]
  },
  {
   "cell_type": "markdown",
   "metadata": {},
   "source": [
    "# Random Operators On 20 Operands"
   ]
  },
  {
   "cell_type": "code",
   "execution_count": 1,
   "metadata": {},
   "outputs": [
    {
     "data": {
      "text/plain": [
       "6.125"
      ]
     },
     "execution_count": 1,
     "metadata": {},
     "output_type": "execute_result"
    }
   ],
   "source": [
    "4+4-3*5/8"
   ]
  },
  {
   "cell_type": "code",
   "execution_count": 2,
   "metadata": {},
   "outputs": [
    {
     "data": {
      "text/plain": [
       "166.0"
      ]
     },
     "execution_count": 2,
     "metadata": {},
     "output_type": "execute_result"
    }
   ],
   "source": [
    "56/2*8-78+20"
   ]
  },
  {
   "cell_type": "code",
   "execution_count": 3,
   "metadata": {},
   "outputs": [
    {
     "data": {
      "text/plain": [
       "127"
      ]
     },
     "execution_count": 3,
     "metadata": {},
     "output_type": "execute_result"
    }
   ],
   "source": [
    "55//3*4-8+63"
   ]
  },
  {
   "cell_type": "code",
   "execution_count": 4,
   "metadata": {},
   "outputs": [
    {
     "data": {
      "text/plain": [
       "141.0"
      ]
     },
     "execution_count": 4,
     "metadata": {},
     "output_type": "execute_result"
    }
   ],
   "source": [
    "25/5+(4+98-85)*8"
   ]
  },
  {
   "cell_type": "code",
   "execution_count": 5,
   "metadata": {},
   "outputs": [
    {
     "data": {
      "text/plain": [
       "-4.833333333333333"
      ]
     },
     "execution_count": 5,
     "metadata": {},
     "output_type": "execute_result"
    }
   ],
   "source": [
    "(20+5)/6-9"
   ]
  },
  {
   "cell_type": "code",
   "execution_count": 7,
   "metadata": {},
   "outputs": [
    {
     "data": {
      "text/plain": [
       "1000"
      ]
     },
     "execution_count": 7,
     "metadata": {},
     "output_type": "execute_result"
    }
   ],
   "source": [
    "100*10+20//25"
   ]
  },
  {
   "cell_type": "code",
   "execution_count": 8,
   "metadata": {},
   "outputs": [
    {
     "data": {
      "text/plain": [
       "42"
      ]
     },
     "execution_count": 8,
     "metadata": {},
     "output_type": "execute_result"
    }
   ],
   "source": [
    "5+5*8-6//2"
   ]
  },
  {
   "cell_type": "code",
   "execution_count": 10,
   "metadata": {},
   "outputs": [
    {
     "data": {
      "text/plain": [
       "10077694"
      ]
     },
     "execution_count": 10,
     "metadata": {},
     "output_type": "execute_result"
    }
   ],
   "source": [
    "5+6**9-7"
   ]
  },
  {
   "cell_type": "code",
   "execution_count": 11,
   "metadata": {},
   "outputs": [
    {
     "data": {
      "text/plain": [
       "16.5"
      ]
     },
     "execution_count": 11,
     "metadata": {},
     "output_type": "execute_result"
    }
   ],
   "source": [
    "27-9*7/6"
   ]
  },
  {
   "cell_type": "code",
   "execution_count": 12,
   "metadata": {},
   "outputs": [
    {
     "data": {
      "text/plain": [
       "578.5714285714287"
      ]
     },
     "execution_count": 12,
     "metadata": {},
     "output_type": "execute_result"
    }
   ],
   "source": [
    "45/7*9*(4+6)"
   ]
  },
  {
   "cell_type": "code",
   "execution_count": 13,
   "metadata": {},
   "outputs": [
    {
     "data": {
      "text/plain": [
       "35"
      ]
     },
     "execution_count": 13,
     "metadata": {},
     "output_type": "execute_result"
    }
   ],
   "source": [
    "(45//9)*5+23-13"
   ]
  },
  {
   "cell_type": "code",
   "execution_count": 14,
   "metadata": {},
   "outputs": [
    {
     "data": {
      "text/plain": [
       "1396"
      ]
     },
     "execution_count": 14,
     "metadata": {},
     "output_type": "execute_result"
    }
   ],
   "source": [
    "(18+6)//6+48*(64-35)"
   ]
  },
  {
   "cell_type": "code",
   "execution_count": 15,
   "metadata": {},
   "outputs": [
    {
     "data": {
      "text/plain": [
       "168.57142857142858"
      ]
     },
     "execution_count": 15,
     "metadata": {},
     "output_type": "execute_result"
    }
   ],
   "source": [
    "36-6+97*20/14"
   ]
  },
  {
   "cell_type": "code",
   "execution_count": 16,
   "metadata": {},
   "outputs": [
    {
     "data": {
      "text/plain": [
       "-1432"
      ]
     },
     "execution_count": 16,
     "metadata": {},
     "output_type": "execute_result"
    }
   ],
   "source": [
    "20*14//6-(79*19)+23"
   ]
  },
  {
   "cell_type": "code",
   "execution_count": 17,
   "metadata": {},
   "outputs": [
    {
     "data": {
      "text/plain": [
       "30"
      ]
     },
     "execution_count": 17,
     "metadata": {},
     "output_type": "execute_result"
    }
   ],
   "source": [
    "(98-8)//30*(4+6)"
   ]
  },
  {
   "cell_type": "code",
   "execution_count": 18,
   "metadata": {},
   "outputs": [
    {
     "data": {
      "text/plain": [
       "0"
      ]
     },
     "execution_count": 18,
     "metadata": {},
     "output_type": "execute_result"
    }
   ],
   "source": [
    "(46+4)//20**(18-4)"
   ]
  },
  {
   "cell_type": "code",
   "execution_count": 19,
   "metadata": {},
   "outputs": [
    {
     "data": {
      "text/plain": [
       "-155"
      ]
     },
     "execution_count": 19,
     "metadata": {},
     "output_type": "execute_result"
    }
   ],
   "source": [
    "(20%6)+95-63*4"
   ]
  },
  {
   "cell_type": "code",
   "execution_count": 20,
   "metadata": {},
   "outputs": [
    {
     "data": {
      "text/plain": [
       "50"
      ]
     },
     "execution_count": 20,
     "metadata": {},
     "output_type": "execute_result"
    }
   ],
   "source": [
    "55-5+15*(45%3)"
   ]
  },
  {
   "cell_type": "code",
   "execution_count": 21,
   "metadata": {},
   "outputs": [
    {
     "data": {
      "text/plain": [
       "-1272249058491397"
      ]
     },
     "execution_count": 21,
     "metadata": {},
     "output_type": "execute_result"
    }
   ],
   "source": [
    "25+61-78**9//(64+20)"
   ]
  },
  {
   "cell_type": "code",
   "execution_count": 22,
   "metadata": {},
   "outputs": [
    {
     "data": {
      "text/plain": [
       "44"
      ]
     },
     "execution_count": 22,
     "metadata": {},
     "output_type": "execute_result"
    }
   ],
   "source": [
    "45-5//4"
   ]
  }
 ],
 "metadata": {
  "kernelspec": {
   "display_name": "Python 3",
   "language": "python",
   "name": "python3"
  },
  "language_info": {
   "codemirror_mode": {
    "name": "ipython",
    "version": 3
   },
   "file_extension": ".py",
   "mimetype": "text/x-python",
   "name": "python",
   "nbconvert_exporter": "python",
   "pygments_lexer": "ipython3",
   "version": "3.7.3"
  }
 },
 "nbformat": 4,
 "nbformat_minor": 2
}
